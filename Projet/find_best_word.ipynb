{
 "cells": [
  {
   "cell_type": "code",
   "execution_count": 1,
   "metadata": {},
   "outputs": [
    {
     "name": "stderr",
     "output_type": "stream",
     "text": [
      "c:\\Users\\thoma\\Anaconda\\envs\\redactle\\lib\\site-packages\\tqdm\\auto.py:21: TqdmWarning: IProgress not found. Please update jupyter and ipywidgets. See https://ipywidgets.readthedocs.io/en/stable/user_install.html\n",
      "  from .autonotebook import tqdm as notebook_tqdm\n"
     ]
    }
   ],
   "source": [
    "import numpy as np\n",
    "from transformers import pipeline"
   ]
  },
  {
   "attachments": {},
   "cell_type": "markdown",
   "metadata": {},
   "source": [
    "Objectif : à partir d'un contexte de mot, trouver le meilleur mot à proposer"
   ]
  },
  {
   "cell_type": "code",
   "execution_count": 2,
   "metadata": {},
   "outputs": [],
   "source": [
    "contexte = \"Le <mask> dans le <mask> rouge\""
   ]
  },
  {
   "cell_type": "code",
   "execution_count": 4,
   "metadata": {},
   "outputs": [],
   "source": [
    "camembert_fill_mask  = pipeline(\"fill-mask\", model=\"camembert/camembert-base-wikipedia-4gb\", tokenizer=\"camembert/camembert-base-wikipedia-4gb\", top_k = 10)\n",
    "#camembert_fill_mask  = pipeline(\"fill-mask\", model=\"camembert-base\", tokenizer=\"camembert-base\")"
   ]
  },
  {
   "cell_type": "code",
   "execution_count": 5,
   "metadata": {},
   "outputs": [],
   "source": [
    "results = camembert_fill_mask(contexte)"
   ]
  },
  {
   "cell_type": "code",
   "execution_count": 6,
   "metadata": {},
   "outputs": [
    {
     "data": {
      "text/plain": [
       "[[{'score': 0.4536731541156769,\n",
       "   'token': 169,\n",
       "   'token_str': 'film',\n",
       "   'sequence': '<s> Le film dans le<mask> rouge</s>'},\n",
       "  {'score': 0.04999162256717682,\n",
       "   'token': 831,\n",
       "   'token_str': 'cinéma',\n",
       "   'sequence': '<s> Le cinéma dans le<mask> rouge</s>'},\n",
       "  {'score': 0.033988092094659805,\n",
       "   'token': 2950,\n",
       "   'token_str': 'Venise',\n",
       "   'sequence': '<s> Le Venise dans le<mask> rouge</s>'},\n",
       "  {'score': 0.02040482871234417,\n",
       "   'token': 5062,\n",
       "   'token_str': 'Voyage',\n",
       "   'sequence': '<s> Le Voyage dans le<mask> rouge</s>'},\n",
       "  {'score': 0.01757332868874073,\n",
       "   'token': 1254,\n",
       "   'token_str': 'Film',\n",
       "   'sequence': '<s> Le Film dans le<mask> rouge</s>'},\n",
       "  {'score': 0.00991884246468544,\n",
       "   'token': 836,\n",
       "   'token_str': 'théâtre',\n",
       "   'sequence': '<s> Le théâtre dans le<mask> rouge</s>'},\n",
       "  {'score': 0.00919203832745552,\n",
       "   'token': 29914,\n",
       "   'token_str': 'labyrinthe',\n",
       "   'sequence': '<s> Le labyrinthe dans le<mask> rouge</s>'},\n",
       "  {'score': 0.007303888909518719,\n",
       "   'token': 11920,\n",
       "   'token_str': 'dialogue',\n",
       "   'sequence': '<s> Le dialogue dans le<mask> rouge</s>'},\n",
       "  {'score': 0.006982941180467606,\n",
       "   'token': 13766,\n",
       "   'token_str': 'Juste',\n",
       "   'sequence': '<s> Le Juste dans le<mask> rouge</s>'},\n",
       "  {'score': 0.00590694323182106,\n",
       "   'token': 5546,\n",
       "   'token_str': 'Cinéma',\n",
       "   'sequence': '<s> Le Cinéma dans le<mask> rouge</s>'}],\n",
       " [{'score': 0.6553198099136353,\n",
       "   'token': 18567,\n",
       "   'token_str': 'fauteuil',\n",
       "   'sequence': '<s> Le<mask> dans le fauteuil rouge</s>'},\n",
       "  {'score': 0.09526552259922028,\n",
       "   'token': 10832,\n",
       "   'token_str': 'ballon',\n",
       "   'sequence': '<s> Le<mask> dans le ballon rouge</s>'},\n",
       "  {'score': 0.03962492570281029,\n",
       "   'token': 1771,\n",
       "   'token_str': 'tableau',\n",
       "   'sequence': '<s> Le<mask> dans le tableau rouge</s>'},\n",
       "  {'score': 0.023584166541695595,\n",
       "   'token': 169,\n",
       "   'token_str': 'film',\n",
       "   'sequence': '<s> Le<mask> dans le film rouge</s>'},\n",
       "  {'score': 0.0075506228022277355,\n",
       "   'token': 4280,\n",
       "   'token_str': 'phare',\n",
       "   'sequence': '<s> Le<mask> dans le phare rouge</s>'},\n",
       "  {'score': 0.007526710629463196,\n",
       "   'token': 3016,\n",
       "   'token_str': 'champ',\n",
       "   'sequence': '<s> Le<mask> dans le champ rouge</s>'},\n",
       "  {'score': 0.00739130936563015,\n",
       "   'token': 27822,\n",
       "   'token_str': 'Cadre',\n",
       "   'sequence': '<s> Le<mask> dans le Cadre rouge</s>'},\n",
       "  {'score': 0.005683253053575754,\n",
       "   'token': 20026,\n",
       "   'token_str': 'cordon',\n",
       "   'sequence': '<s> Le<mask> dans le cordon rouge</s>'},\n",
       "  {'score': 0.005245408974587917,\n",
       "   'token': 983,\n",
       "   'token_str': 'cadre',\n",
       "   'sequence': '<s> Le<mask> dans le cadre rouge</s>'},\n",
       "  {'score': 0.005116535350680351,\n",
       "   'token': 13291,\n",
       "   'token_str': 'tissu',\n",
       "   'sequence': '<s> Le<mask> dans le tissu rouge</s>'}]]"
      ]
     },
     "execution_count": 6,
     "metadata": {},
     "output_type": "execute_result"
    }
   ],
   "source": [
    "results"
   ]
  },
  {
   "attachments": {},
   "cell_type": "markdown",
   "metadata": {},
   "source": [
    "On trie les mots par probabilité décroissante et on prend tire selon une loi de poisson avec un paramètre de température."
   ]
  },
  {
   "cell_type": "code",
   "execution_count": 7,
   "metadata": {},
   "outputs": [
    {
     "data": {
      "text/plain": [
       "[('film', 0.4536731541156769),\n",
       " ('cinéma', 0.04999162256717682),\n",
       " ('Venise', 0.033988092094659805),\n",
       " ('Voyage', 0.02040482871234417),\n",
       " ('Film', 0.01757332868874073),\n",
       " ('théâtre', 0.00991884246468544),\n",
       " ('labyrinthe', 0.00919203832745552),\n",
       " ('dialogue', 0.007303888909518719),\n",
       " ('Juste', 0.006982941180467606),\n",
       " ('Cinéma', 0.00590694323182106),\n",
       " ('fauteuil', 0.6553198099136353),\n",
       " ('ballon', 0.09526552259922028),\n",
       " ('tableau', 0.03962492570281029),\n",
       " ('film', 0.023584166541695595),\n",
       " ('phare', 0.0075506228022277355),\n",
       " ('champ', 0.007526710629463196),\n",
       " ('Cadre', 0.00739130936563015),\n",
       " ('cordon', 0.005683253053575754),\n",
       " ('cadre', 0.005245408974587917),\n",
       " ('tissu', 0.005116535350680351)]"
      ]
     },
     "execution_count": 7,
     "metadata": {},
     "output_type": "execute_result"
    }
   ],
   "source": [
    "best_results = [(mot['token_str'], mot['score']) for blank in results for mot in blank]\n",
    "best_results"
   ]
  },
  {
   "cell_type": "code",
   "execution_count": 8,
   "metadata": {},
   "outputs": [
    {
     "data": {
      "text/plain": [
       "[('fauteuil', 0.6553198099136353),\n",
       " ('film', 0.4536731541156769),\n",
       " ('ballon', 0.09526552259922028),\n",
       " ('cinéma', 0.04999162256717682),\n",
       " ('tableau', 0.03962492570281029),\n",
       " ('Venise', 0.033988092094659805),\n",
       " ('film', 0.023584166541695595),\n",
       " ('Voyage', 0.02040482871234417),\n",
       " ('Film', 0.01757332868874073),\n",
       " ('théâtre', 0.00991884246468544),\n",
       " ('labyrinthe', 0.00919203832745552),\n",
       " ('phare', 0.0075506228022277355),\n",
       " ('champ', 0.007526710629463196),\n",
       " ('Cadre', 0.00739130936563015),\n",
       " ('dialogue', 0.007303888909518719),\n",
       " ('Juste', 0.006982941180467606),\n",
       " ('Cinéma', 0.00590694323182106),\n",
       " ('cordon', 0.005683253053575754),\n",
       " ('cadre', 0.005245408974587917),\n",
       " ('tissu', 0.005116535350680351)]"
      ]
     },
     "execution_count": 8,
     "metadata": {},
     "output_type": "execute_result"
    }
   ],
   "source": [
    "sorted_list = sorted(best_results, key=lambda x: x[1], reverse=True)\n",
    "sorted_list"
   ]
  },
  {
   "cell_type": "code",
   "execution_count": 9,
   "metadata": {},
   "outputs": [
    {
     "data": {
      "text/plain": [
       "'film'"
      ]
     },
     "execution_count": 9,
     "metadata": {},
     "output_type": "execute_result"
    }
   ],
   "source": [
    "temperature = 3\n",
    "sorted_list[np.random.poisson(temperature)][0]"
   ]
  }
 ],
 "metadata": {
  "kernelspec": {
   "display_name": "redactle",
   "language": "python",
   "name": "python3"
  },
  "language_info": {
   "codemirror_mode": {
    "name": "ipython",
    "version": 3
   },
   "file_extension": ".py",
   "mimetype": "text/x-python",
   "name": "python",
   "nbconvert_exporter": "python",
   "pygments_lexer": "ipython3",
   "version": "3.9.16"
  },
  "orig_nbformat": 4
 },
 "nbformat": 4,
 "nbformat_minor": 2
}
