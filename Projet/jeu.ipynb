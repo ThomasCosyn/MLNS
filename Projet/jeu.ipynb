{
 "cells": [
  {
   "attachments": {},
   "cell_type": "markdown",
   "metadata": {},
   "source": [
    "# Implementation of the redactle game"
   ]
  },
  {
   "cell_type": "code",
   "execution_count": 42,
   "metadata": {},
   "outputs": [
    {
     "name": "stdout",
     "output_type": "stream",
     "text": [
      "Collecting pandas\n",
      "  Using cached pandas-2.0.0-cp39-cp39-win_amd64.whl (11.3 MB)\n",
      "Collecting tzdata>=2022.1\n",
      "  Using cached tzdata-2023.3-py2.py3-none-any.whl (341 kB)\n",
      "Collecting pytz>=2020.1\n",
      "  Using cached pytz-2023.3-py2.py3-none-any.whl (502 kB)\n",
      "Requirement already satisfied: numpy>=1.20.3 in c:\\users\\thoma\\anaconda\\envs\\redactle\\lib\\site-packages (from pandas) (1.23.5)\n",
      "Requirement already satisfied: python-dateutil>=2.8.2 in c:\\users\\thoma\\anaconda\\envs\\redactle\\lib\\site-packages (from pandas) (2.8.2)\n",
      "Requirement already satisfied: six>=1.5 in c:\\users\\thoma\\anaconda\\envs\\redactle\\lib\\site-packages (from python-dateutil>=2.8.2->pandas) (1.16.0)\n",
      "Installing collected packages: pytz, tzdata, pandas\n",
      "Successfully installed pandas-2.0.0 pytz-2023.3 tzdata-2023.3\n"
     ]
    }
   ],
   "source": [
    "!pip install pandas"
   ]
  },
  {
   "cell_type": "code",
   "execution_count": 41,
   "metadata": {},
   "outputs": [
    {
     "ename": "ModuleNotFoundError",
     "evalue": "No module named 'pandas'",
     "output_type": "error",
     "traceback": [
      "\u001b[1;31m---------------------------------------------------------------------------\u001b[0m",
      "\u001b[1;31mModuleNotFoundError\u001b[0m                       Traceback (most recent call last)",
      "Cell \u001b[1;32mIn[41], line 4\u001b[0m\n\u001b[0;32m      2\u001b[0m \u001b[39mimport\u001b[39;00m \u001b[39mnltk\u001b[39;00m\n\u001b[0;32m      3\u001b[0m \u001b[39mimport\u001b[39;00m \u001b[39mnumpy\u001b[39;00m \u001b[39mas\u001b[39;00m \u001b[39mnp\u001b[39;00m\n\u001b[1;32m----> 4\u001b[0m \u001b[39mimport\u001b[39;00m \u001b[39mpandas\u001b[39;00m \u001b[39mas\u001b[39;00m \u001b[39mpd\u001b[39;00m\n\u001b[0;32m      5\u001b[0m \u001b[39mfrom\u001b[39;00m \u001b[39mtransformers\u001b[39;00m \u001b[39mimport\u001b[39;00m pipeline\n\u001b[0;32m      6\u001b[0m \u001b[39mfrom\u001b[39;00m \u001b[39mutils\u001b[39;00m \u001b[39mimport\u001b[39;00m mask_sentence, propose_best_word, render_list_as_text, update\n",
      "\u001b[1;31mModuleNotFoundError\u001b[0m: No module named 'pandas'"
     ]
    }
   ],
   "source": [
    "import json\n",
    "import nltk\n",
    "import numpy as np\n",
    "import pandas as pd\n",
    "from transformers import pipeline\n",
    "from utils import mask_sentence, propose_best_word, render_list_as_text, update"
   ]
  },
  {
   "attachments": {},
   "cell_type": "markdown",
   "metadata": {},
   "source": [
    "## Initialization"
   ]
  },
  {
   "cell_type": "code",
   "execution_count": 2,
   "metadata": {},
   "outputs": [],
   "source": [
    "# Load JSON data from file\n",
    "with open('articles/imam.json', 'r') as f:\n",
    "    data = json.load(f)\n",
    "\n",
    "# Extract titre and article contents\n",
    "titre = data['titre']\n",
    "article = data['article']"
   ]
  },
  {
   "cell_type": "code",
   "execution_count": 3,
   "metadata": {},
   "outputs": [],
   "source": [
    "titre_masked, titre_dico = mask_sentence(titre)"
   ]
  },
  {
   "cell_type": "code",
   "execution_count": 4,
   "metadata": {},
   "outputs": [],
   "source": [
    "article_masked, article_dico = mask_sentence(article)"
   ]
  },
  {
   "cell_type": "code",
   "execution_count": 5,
   "metadata": {},
   "outputs": [
    {
     "name": "stdout",
     "output_type": "stream",
     "text": [
      "['L', 'de', '(', ')', 'en', '', 'est', 'une', 'le', 'la', 'à', 'pour', 'entre', 'des', 'd', 'qui', 'Ces', 'sur', 'les', 'n', ':', '«', 'plus', '»', 'du', 's', 'y', 'ainsi', '', 'Le', 'dans', 'le', 'l', 'par', 'est', 'de', 'comme', 'une', 'un', '<unk>', '.', 's', 'e', ' ', 'l', '-', 'et', '\\\\', '', 'es', 'é', '', 'nt', 'r', 'c', 'p', 'ts', 'ent', 'P', 'tr', 'ence', 'con', ').', 'D', 'WtXmlEndTag', '/', 'ra', 'm', 'in', 'esp', 'ssement', 'ation', 'nit', 'ard', '[', ']', 'ron', 'ité', '’', 'pl', '_', 'pr', 'mag', 'Dé', 'sse', 'di', 'it', 'gar', 'In', 'eur', 'ri', 'mi', 'ant', 'é', 'er', 'ur']\n"
     ]
    }
   ],
   "source": [
    "with open('included_words.txt', 'r') as file:\n",
    "    # Read the lines from the file\n",
    "    lines = file.readlines()\n",
    "    \n",
    "    # Remove any leading or trailing whitespaces from each line\n",
    "    words = [line.strip().strip('\"\\',') for line in lines]\n",
    "    \n",
    "# Print the resulting list of words\n",
    "print(words)"
   ]
  },
  {
   "attachments": {},
   "cell_type": "markdown",
   "metadata": {},
   "source": [
    "## Update"
   ]
  },
  {
   "cell_type": "code",
   "execution_count": 6,
   "metadata": {},
   "outputs": [],
   "source": [
    "tried_words = words"
   ]
  },
  {
   "cell_type": "code",
   "execution_count": 7,
   "metadata": {},
   "outputs": [],
   "source": [
    "llm_model  = pipeline(\"fill-mask\", model=\"camembert/camembert-base-wikipedia-4gb\", tokenizer=\"camembert/camembert-base-wikipedia-4gb\", top_k = 20)"
   ]
  },
  {
   "cell_type": "code",
   "execution_count": 8,
   "metadata": {},
   "outputs": [
    {
     "name": "stdout",
     "output_type": "stream",
     "text": [
      "titre masked : <mask>\n",
      "article masked : <mask> <mask> ( <mask> <mask> des <mask> <mask> <mask> qui est <mask> ) est une <mask> qui <mask> la <mask> en <mask> . <mask> <mask> est de <mask> une <mask> qui <mask> <mask> <mask> en <mask> qui <mask> les <mask> et la <mask> <mask> <mask> de l <mask> <mask> . <mask> les <mask> <mask> <mask> d <mask> une <mask> <mask> de l <mask> <mask> <mask> l <mask> <mask> est le <mask> <mask> et <mask> de la <mask> <mask> . <mask> les <mask> <mask> <mask> <mask> <mask> le <mask> de <mask> <mask> d <mask> <mask> et <mask> de <mask> <mask> <mask> <mask> d <mask> <mask> est plus <mask> dans le <mask> . <mask> les <mask> <mask> <mask> <mask> l <mask> <mask> est le <mask> <mask> . <mask> le <mask> du <mask> <mask> <mask> <mask> <mask> la <mask> d <mask> <mask> à <mask> du <mask> <mask> du <mask> <mask> . <mask> <mask> <mask> l <mask> <mask> <mask> <mask> <mask> <mask> d <mask> une <mask> <mask> : <mask> est <mask> par la <mask> <mask> et <mask> <mask> à <mask> <mask> <mask> <mask> <mask> . <mask> <mask> <mask> <mask> s <mask> <mask> n <mask> <mask> <mask> <mask> <mask> .\n"
     ]
    }
   ],
   "source": [
    "print(f\"titre masked : {render_list_as_text(titre_masked)}\")\n",
    "print(f\"article masked : {render_list_as_text(article_masked)}\")"
   ]
  },
  {
   "cell_type": "code",
   "execution_count": 9,
   "metadata": {},
   "outputs": [],
   "source": [
    "temperature = 10"
   ]
  },
  {
   "cell_type": "code",
   "execution_count": 10,
   "metadata": {},
   "outputs": [],
   "source": [
    "suggestion, tried_words = propose_best_word(render_list_as_text(article_masked), temperature, tried_words, llm_model)"
   ]
  },
  {
   "cell_type": "code",
   "execution_count": 11,
   "metadata": {},
   "outputs": [],
   "source": [
    "titre_dico, titre_masked, article_dico, article_masked, good_answer = update(titre_dico, titre_masked, article_dico, article_masked, suggestion)"
   ]
  },
  {
   "cell_type": "code",
   "execution_count": 12,
   "metadata": {},
   "outputs": [
    {
     "data": {
      "text/plain": [
       "'que'"
      ]
     },
     "execution_count": 12,
     "metadata": {},
     "output_type": "execute_result"
    }
   ],
   "source": [
    "suggestion"
   ]
  },
  {
   "cell_type": "code",
   "execution_count": 13,
   "metadata": {},
   "outputs": [
    {
     "name": "stdout",
     "output_type": "stream",
     "text": [
      "titre masked : <mask>\n",
      "article masked : <mask> <mask> ( <mask> <mask> des <mask> <mask> <mask> qui est <mask> ) est une <mask> qui <mask> la <mask> en <mask> . <mask> <mask> est de <mask> une <mask> qui <mask> <mask> <mask> en <mask> qui <mask> les <mask> et la <mask> <mask> <mask> de l <mask> <mask> . <mask> les <mask> <mask> <mask> d <mask> une <mask> <mask> de l <mask> <mask> <mask> l <mask> <mask> est le <mask> <mask> et <mask> de la <mask> <mask> . <mask> les <mask> <mask> <mask> <mask> <mask> le <mask> de <mask> <mask> d <mask> <mask> et <mask> de <mask> <mask> <mask> <mask> d <mask> <mask> est plus <mask> dans le <mask> . <mask> les <mask> <mask> <mask> <mask> l <mask> <mask> est le <mask> <mask> . <mask> le <mask> du <mask> <mask> <mask> <mask> <mask> la <mask> d <mask> <mask> à <mask> du <mask> <mask> du <mask> <mask> . <mask> <mask> <mask> l <mask> <mask> <mask> <mask> <mask> <mask> d <mask> une <mask> <mask> : <mask> est <mask> par la <mask> <mask> et <mask> <mask> à <mask> <mask> <mask> <mask> <mask> . <mask> <mask> <mask> <mask> s <mask> <mask> n <mask> <mask> <mask> <mask> <mask> .\n"
     ]
    }
   ],
   "source": [
    "print(f\"titre masked : {render_list_as_text(titre_masked)}\")\n",
    "print(f\"article masked : {render_list_as_text(article_masked)}\")"
   ]
  },
  {
   "cell_type": "code",
   "execution_count": null,
   "metadata": {},
   "outputs": [],
   "source": [
    "for _ in range(100):\n",
    "    \n",
    "    # Listen to the suggested word\n",
    "    suggestion, tried_words = propose_best_word(render_list_as_text(article_masked), temperature, tried_words, llm_model)\n",
    "    print(suggestion)\n",
    "\n",
    "    # Update article and title\n",
    "    titre_dico, titre_masked, article_dico, article_masked, good_answer = update(titre_dico, titre_masked, article_dico, article_masked, suggestion)\n",
    "\n",
    "    if titre == titre_masked:\n",
    "        print(\"Gagné !\")\n",
    "        break"
   ]
  },
  {
   "attachments": {},
   "cell_type": "markdown",
   "metadata": {},
   "source": [
    "## Test lemmatization"
   ]
  },
  {
   "cell_type": "code",
   "execution_count": 15,
   "metadata": {},
   "outputs": [],
   "source": [
    "from nltk.corpus import wordnet as wn\n",
    "from nltk.stem import WordNetLemmatizer"
   ]
  },
  {
   "cell_type": "code",
   "execution_count": 16,
   "metadata": {},
   "outputs": [],
   "source": [
    "lemmatizer = WordNetLemmatizer()"
   ]
  },
  {
   "cell_type": "code",
   "execution_count": 18,
   "metadata": {},
   "outputs": [
    {
     "name": "stderr",
     "output_type": "stream",
     "text": [
      "[nltk_data] Downloading package wordnet to\n",
      "[nltk_data]     C:\\Users\\thoma\\AppData\\Roaming\\nltk_data...\n"
     ]
    },
    {
     "data": {
      "text/plain": [
       "True"
      ]
     },
     "execution_count": 18,
     "metadata": {},
     "output_type": "execute_result"
    }
   ],
   "source": [
    "nltk.download('wordnet')"
   ]
  },
  {
   "cell_type": "code",
   "execution_count": 25,
   "metadata": {},
   "outputs": [
    {
     "name": "stdout",
     "output_type": "stream",
     "text": [
      "Mot original : grandes\n",
      "Mot normalisé : grandes\n"
     ]
    }
   ],
   "source": [
    "word = \"grandes\"\n",
    "normalized_word = lemmatizer.lemmatize(word, wn.VERB)\n",
    "print(\"Mot original :\", word)\n",
    "print(\"Mot normalisé :\", normalized_word)"
   ]
  },
  {
   "attachments": {},
   "cell_type": "markdown",
   "metadata": {},
   "source": [
    "Conclusion : nul avec nltk"
   ]
  },
  {
   "cell_type": "code",
   "execution_count": 30,
   "metadata": {},
   "outputs": [],
   "source": [
    "import spacy"
   ]
  },
  {
   "cell_type": "code",
   "execution_count": 33,
   "metadata": {},
   "outputs": [],
   "source": [
    "nlp = spacy.load(\"fr_core_news_sm\")"
   ]
  },
  {
   "cell_type": "code",
   "execution_count": 35,
   "metadata": {},
   "outputs": [
    {
     "name": "stdout",
     "output_type": "stream",
     "text": [
      "Mot original : ate\n",
      "Mot lemmatisé : at\n",
      "Mot normalisé : ate\n"
     ]
    }
   ],
   "source": [
    "word = \"ate\"\n",
    "lemmatized_word = nlp(word)[0].lemma_ # Lemmatisation\n",
    "normalized_word = nlp(word)[0].norm_  # Normalisation\n",
    "print(\"Mot original :\", word)\n",
    "print(\"Mot lemmatisé :\", lemmatized_word)\n",
    "print(\"Mot normalisé :\", normalized_word)"
   ]
  },
  {
   "attachments": {},
   "cell_type": "markdown",
   "metadata": {},
   "source": [
    "Conclusion : pas terrible"
   ]
  },
  {
   "attachments": {},
   "cell_type": "markdown",
   "metadata": {},
   "source": [
    "## Epsilon greedy"
   ]
  },
  {
   "cell_type": "code",
   "execution_count": 36,
   "metadata": {},
   "outputs": [],
   "source": [
    "epsilon = 0.1"
   ]
  },
  {
   "cell_type": "code",
   "execution_count": 37,
   "metadata": {},
   "outputs": [],
   "source": [
    "from transformers import CamembertTokenizer"
   ]
  },
  {
   "cell_type": "code",
   "execution_count": 38,
   "metadata": {},
   "outputs": [],
   "source": [
    "tokenizer = CamembertTokenizer.from_pretrained(\"camembert/camembert-base-wikipedia-4gb\")"
   ]
  },
  {
   "cell_type": "code",
   "execution_count": 39,
   "metadata": {},
   "outputs": [],
   "source": [
    "vocab = tokenizer.get_vocab()"
   ]
  },
  {
   "cell_type": "code",
   "execution_count": 43,
   "metadata": {},
   "outputs": [],
   "source": [
    "final_article = ['<mask>', '<mask>', ',', '<mask>', '<mask>', '<mask>', ',', 'est', 'un', '<mask>', ',', '<mask>', 'et', '<mask>', '<mask>', 'de', '<mask>', '<mask>', 'et', 'de', '<mask>', ',', 'né', 'le', '<mask>', '<mask>', '<mask>', 'à', '<mask>', '(', 'actuelle', 'Pologne', ',', 'à', 'l', \"'\", '<mask>', 'dans', 'l', \"'\", '<mask>', '<mask>', 'en', '<mask>', ')', 'et', 'mort', 'le', '27', 'mars', '<mask>', 'à', '<mask>', '<mask>', '(', '<mask>', ',', '<mask>', ')', '.', '<mask>', '<mask>', 'est', 'l', \"'\", 'une', 'des', 'figures', 'les', 'plus', 'importantes', 'du', '<mask>', '<mask>', 'du', '<mask>', '<mask>', ',', '<mask>', 'des', '<mask>', '<mask>', 'et', '<mask>', '.', '<mask>', 'de', '<mask>', '<mask>', '<mask>', '<mask>', 'dans', 'le', \n",
    "'<mask>', '<mask>', 'de', 'l', \"'\", '<mask>', '<mask>', '<mask>', ',', 'tout', 'comme', 'pour', '<mask>', '<mask>', 'et', '<mask>', '<mask>', '.', 'Il', 'a', '<mask>', '<mask>', '<mask>', '<mask>', '<mask>', 'été', '<mask>', '<mask>', '<mask>', '', 'des', 'plus', 'grands', '<mask>', '.', '<mask>', '<mask>', 'a', '<mask>', 'l', \"'\", '<mask>', '<mask>', '<mask>', '<mask>', 'en', '<mask>', ',', '<mask>', '<mask>', 'par', 'l', \"'\", '<mask>', '<mask>', '<mask>', 'une', 'fois', 'par', 'an', 'à', 'un', '<mask>', 'ou', '<mask>', '<mask>', 'une', '<mask>', '<mask>', '.', '<mask>', '<mask>', 'de', 'la', '<mask>', '<mask>', 'des', '<mask>', '<mask>', 'et', '<mask>', ',', '<mask>', '<mask>', 'a', 'su', '<mask>', 'un', 'style', '<mask>', 'et', '<mask>', '.', 'Il', 'a', '<mask>', 'des', '<mask>', '<mask>', 'dans', '<mask>', '<mask>', '<mask>', 'et', '<mask>', 'de', 's', \"'\", '<mask>', 'à', 'l', \"'\", '<mask>', '<mask>', 'ainsi', 'qu', \"'\", '<mask>', '<mask>', '<mask>', '.', 'Il', 'a', '<mask>', '<mask>', '<mask>', '<mask>', '<mask>', 'dans', 'des', '<mask>', ',', '<mask>', '<mask>', 'dans', 'des', '<mask>', '<mask>', 'ou', '<mask>', '.']"
   ]
  },
  {
   "cell_type": "code",
   "execution_count": 47,
   "metadata": {},
   "outputs": [
    {
     "data": {
      "text/plain": [
       "0.11"
      ]
     },
     "execution_count": 47,
     "metadata": {},
     "output_type": "execute_result"
    }
   ],
   "source": [
    "len(set(final_article) - set(words)) / 200"
   ]
  }
 ],
 "metadata": {
  "kernelspec": {
   "display_name": "base",
   "language": "python",
   "name": "python3"
  },
  "language_info": {
   "codemirror_mode": {
    "name": "ipython",
    "version": 3
   },
   "file_extension": ".py",
   "mimetype": "text/x-python",
   "name": "python",
   "nbconvert_exporter": "python",
   "pygments_lexer": "ipython3",
   "version": "3.9.16"
  },
  "orig_nbformat": 4
 },
 "nbformat": 4,
 "nbformat_minor": 2
}
