{
 "cells": [
  {
   "attachments": {},
   "cell_type": "markdown",
   "metadata": {},
   "source": [
    "# Implementation of the redactle game"
   ]
  },
  {
   "cell_type": "code",
   "execution_count": 1,
   "metadata": {},
   "outputs": [
    {
     "name": "stderr",
     "output_type": "stream",
     "text": [
      "c:\\Users\\thoma\\Anaconda\\envs\\redactle\\lib\\site-packages\\tqdm\\auto.py:21: TqdmWarning: IProgress not found. Please update jupyter and ipywidgets. See https://ipywidgets.readthedocs.io/en/stable/user_install.html\n",
      "  from .autonotebook import tqdm as notebook_tqdm\n"
     ]
    }
   ],
   "source": [
    "from utils import propose_best_word"
   ]
  },
  {
   "attachments": {},
   "cell_type": "markdown",
   "metadata": {},
   "source": [
    "## Initialization"
   ]
  },
  {
   "cell_type": "code",
   "execution_count": 3,
   "metadata": {},
   "outputs": [],
   "source": [
    "import numpy as np"
   ]
  },
  {
   "cell_type": "code",
   "execution_count": 20,
   "metadata": {},
   "outputs": [],
   "source": [
    "title = np.array([\"Le\", \"rêve\", \"dans\", \"le\", \"pavillon\", \"rouge\"])\n",
    "title_mask = np.full(title.shape, \"_\")"
   ]
  },
  {
   "cell_type": "code",
   "execution_count": 21,
   "metadata": {},
   "outputs": [
    {
     "data": {
      "text/plain": [
       "array(['_', '_', '_', '_', '_', '_'], dtype='<U1')"
      ]
     },
     "execution_count": 21,
     "metadata": {},
     "output_type": "execute_result"
    }
   ],
   "source": [
    "title_mask"
   ]
  },
  {
   "attachments": {},
   "cell_type": "markdown",
   "metadata": {},
   "source": [
    "## Update"
   ]
  },
  {
   "cell_type": "code",
   "execution_count": 26,
   "metadata": {},
   "outputs": [],
   "source": [
    "titre = \"Le Rêve dans le pavillon rouge\"\n",
    "article = \"Le Rêve dans le pavillon rouge écrit en l'espace de dix ans par Cao Xueqin, est le dernier en date des quatre grands romans de la littérature classique chinoise, considéré par Mao Zedong comme l'une des fiertés de la Chine.\""
   ]
  },
  {
   "cell_type": "code",
   "execution_count": 27,
   "metadata": {},
   "outputs": [],
   "source": [
    "titre_masked = \"Le <mask> dans le <mask> <mask>\"\n",
    "article_masked = \"Le <mask> dans le <mask> <mask> <mask> en l'<mask> de <mask> <mask> par <mask> <mask>, est le <mask> en <mask> des <mask> <mask> <mask> de la <mask> <mask> <mask>, <mask> par <mask> <mask> comme l'une des <mask> de la <mask>.\""
   ]
  },
  {
   "cell_type": "code",
   "execution_count": 31,
   "metadata": {},
   "outputs": [],
   "source": [
    "tried_words = [',', 'Le', 'dans', 'le', \"l'\", \"par\", \"est\", \"de\", \"comme\", \"une\", \"un\", \"<unk>\", \".\", \"s\"]"
   ]
  },
  {
   "cell_type": "code",
   "execution_count": 32,
   "metadata": {},
   "outputs": [],
   "source": [
    "suggestion, tried_words = propose_best_word(article_masked, 5, tried_words)"
   ]
  },
  {
   "cell_type": "code",
   "execution_count": 33,
   "metadata": {},
   "outputs": [
    {
     "data": {
      "text/plain": [
       "'l'"
      ]
     },
     "execution_count": 33,
     "metadata": {},
     "output_type": "execute_result"
    }
   ],
   "source": [
    "suggestion"
   ]
  },
  {
   "cell_type": "code",
   "execution_count": 34,
   "metadata": {},
   "outputs": [],
   "source": [
    "suggestion = 'considéré'"
   ]
  },
  {
   "attachments": {},
   "cell_type": "markdown",
   "metadata": {},
   "source": [
    "On cherche d'abord dans le titre"
   ]
  },
  {
   "cell_type": "code",
   "execution_count": 35,
   "metadata": {},
   "outputs": [],
   "source": [
    "for i, (word, blank) in enumerate(zip(titre.split(), titre_masked.split())):\n",
    "    if word == suggestion:\n",
    "        titre_masked_list = titre_masked.split()\n",
    "        titre_masked_list[i] = suggestion\n",
    "        titre_masked = \" \".join(titre_masked_list)"
   ]
  },
  {
   "cell_type": "code",
   "execution_count": 36,
   "metadata": {},
   "outputs": [
    {
     "data": {
      "text/plain": [
       "'Le <mask> dans le <mask> <mask>'"
      ]
     },
     "execution_count": 36,
     "metadata": {},
     "output_type": "execute_result"
    }
   ],
   "source": [
    "titre_masked"
   ]
  },
  {
   "attachments": {},
   "cell_type": "markdown",
   "metadata": {},
   "source": [
    "Puis dans l'article"
   ]
  },
  {
   "cell_type": "code",
   "execution_count": 37,
   "metadata": {},
   "outputs": [
    {
     "name": "stdout",
     "output_type": "stream",
     "text": [
      "Le <mask> dans le <mask> <mask> <mask> en l'<mask> de <mask> <mask> par <mask> <mask>, est le <mask> en <mask> des <mask> <mask> <mask> de la <mask> <mask> <mask>, <mask> par <mask> <mask> comme l'une des <mask> de la <mask>.\n"
     ]
    }
   ],
   "source": [
    "print(article_masked)\n",
    "\n",
    "for i, (word, blank) in enumerate(zip(article.split(), article_masked.split())):\n",
    "    if word == suggestion:\n",
    "        article_masked_list = article_masked.split()\n",
    "        article_masked_list[i] = suggestion\n",
    "        article_masked = \" \".join(article_masked_list)"
   ]
  },
  {
   "cell_type": "code",
   "execution_count": 38,
   "metadata": {},
   "outputs": [
    {
     "name": "stdout",
     "output_type": "stream",
     "text": [
      "Le <mask> dans le <mask> <mask> <mask> en l'<mask> de <mask> <mask> par <mask> <mask>, est le <mask> en <mask> des <mask> <mask> <mask> de la <mask> <mask> <mask>, considéré par <mask> <mask> comme l'une des <mask> de la <mask>.\n"
     ]
    }
   ],
   "source": [
    "print(article_masked)"
   ]
  },
  {
   "cell_type": "code",
   "execution_count": 39,
   "metadata": {},
   "outputs": [
    {
     "data": {
      "text/plain": [
       "[',',\n",
       " 'Le',\n",
       " 'dans',\n",
       " 'le',\n",
       " \"l'\",\n",
       " 'par',\n",
       " 'est',\n",
       " 'de',\n",
       " 'comme',\n",
       " 'une',\n",
       " 'un',\n",
       " '<unk>',\n",
       " '.',\n",
       " 's',\n",
       " 'l']"
      ]
     },
     "execution_count": 39,
     "metadata": {},
     "output_type": "execute_result"
    }
   ],
   "source": [
    "tried_words"
   ]
  }
 ],
 "metadata": {
  "kernelspec": {
   "display_name": "base",
   "language": "python",
   "name": "python3"
  },
  "language_info": {
   "codemirror_mode": {
    "name": "ipython",
    "version": 3
   },
   "file_extension": ".py",
   "mimetype": "text/x-python",
   "name": "python",
   "nbconvert_exporter": "python",
   "pygments_lexer": "ipython3",
   "version": "3.9.16"
  },
  "orig_nbformat": 4
 },
 "nbformat": 4,
 "nbformat_minor": 2
}
